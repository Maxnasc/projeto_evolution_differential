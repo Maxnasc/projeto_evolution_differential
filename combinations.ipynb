{
 "cells": [
  {
   "cell_type": "markdown",
   "id": "596fc2aa",
   "metadata": {},
   "source": [
    "# Combinações de parâmetros no algoritmo de evolução diferencial\n",
    "\n",
    "F = [0,5, 1, 2]\n",
    "CR = [0.9, 0.7, 0.5]"
   ]
  }
 ],
 "metadata": {
  "language_info": {
   "name": "python"
  }
 },
 "nbformat": 4,
 "nbformat_minor": 5
}
